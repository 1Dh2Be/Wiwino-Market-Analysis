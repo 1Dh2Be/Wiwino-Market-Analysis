{
 "cells": [
  {
   "cell_type": "code",
   "execution_count": 1,
   "metadata": {},
   "outputs": [],
   "source": [
    "import sqlite3\n",
    "import pandas as pd\n",
    "\n",
    "conn = sqlite3.connect(\"data/vivino.db\")\n",
    "cursor = conn.cursor()"
   ]
  },
  {
   "cell_type": "code",
   "execution_count": null,
   "metadata": {},
   "outputs": [],
   "source": [
    "# Add the newly created column to the sql database (countries table)\n",
    "alter_query = f\"\"\"\n",
    "    ALTER TABLE countries\n",
    "    ADD COLUMN proportion_consumer_wineries FLOAT\"\"\"\n",
    "cursor.execute(alter_query)\n",
    "\n",
    "update_val = \"\"\"\n",
    "    UPDATE countries\n",
    "    SET proportion_consumer_wineries = ROUND(users_count / wineries_count, 2)\"\"\"\n",
    "\n",
    "cursor.execute(update_val)\n",
    "conn.commit()"
   ]
  }
 ],
 "metadata": {
  "kernelspec": {
   "display_name": "wiwino_env",
   "language": "python",
   "name": "python3"
  },
  "language_info": {
   "codemirror_mode": {
    "name": "ipython",
    "version": 3
   },
   "file_extension": ".py",
   "mimetype": "text/x-python",
   "name": "python",
   "nbconvert_exporter": "python",
   "pygments_lexer": "ipython3",
   "version": "3.12.2"
  }
 },
 "nbformat": 4,
 "nbformat_minor": 2
}
